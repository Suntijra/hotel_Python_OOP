{
 "cells": [
  {
   "cell_type": "markdown",
   "id": "37ec6028-2174-4c9b-8bc1-7303abed5fe8",
   "metadata": {},
   "source": [
    "ระบบจองห้องพักโรงแรม\n",
    "\n",
    "จงพัฒนาโปรแกรมจองห้องพักโรงแรมแห่งหนึ่ง โดยลูกค้าที่ต้องการจองห้องพักต้องมีการลงทะเบียนเป็นสมาชิกก่อนเสมอ แต่ละครั้งของการจองห้องพัก ลูกค้าจะได้ดาวสะสม 1 ดวงต่อ 1 ใบจอง และเมื่อสะสมได้ดาวครบ 10 ดวง ในครั้งต่อไปที่มีการจองห้องพักเข้ามา ลูกค้าจะได้สถานะเป็นลูกค้า VIP โดยอัตโนมัติ สำหรับลูกค้า VIP จะได้รับส่วนลดค่าเช่าห้อง 10% ต่อใบจอง\n",
    "\n",
    "ในการจองห้องพักของโรงแรม โรงแรมมีห้องพักให้บริการ 2 ประเภท คือ ห้องปกติ คิดค่าเช่า 1,200 บาทต่อคืนต่อห้อง ส่วนห้องพิเศษคิดค่าเช่า 2,000 บาทต่อคืนต่อห้อง โดยห้องปกติจะคิดค่าบริการเพิ่ม 100 บาทต่อคืนต่อห้อง ส่วนห้องพิเศษจะมีการกำหนดค่าบริการพิเศษฟรีไว้ในวงเงิน 400 บาทต่อคืนต่อห้อง (กรณีลูกค้าไม่ใช้บริการพิเศษนี้ จะไม่มีการคืนเงินบริการฟรีนี้ให้ )\n",
    "\n",
    "ในการเข้าพัก สมาชิกต้องมีการจองห้องพักล่วงหน้า 2 วัน และกำหนดวันเข้าพักและวันออกเสมอ สามารถจองห้องพักได้หลายห้อง และตองชำระคาจองหองพก 50% ของราคาเชาทงหมด ( กรณ VIP คดคาจอง\n",
    "จากราคาทงหมดทหกสวนลด 10% แลว ) ระบบสามารถพมพใบจองได"
   ]
  },
  {
   "cell_type": "markdown",
   "id": "920e1925-2720-4c4f-be3e-e01c69e6f740",
   "metadata": {},
   "source": [
    "-ทำการสมัคร และเก็บดาว มีระบบ vip ลด 10%\n",
    "-ห้องปกติ 1200 ห้องพิเศษ 2000\n",
    "-จองร่วงหน้า 2 วัน กำหนด เข้าและออกเสมอ\n",
    "-ชำระค่าห้อง 10% ก่อน(vipหักจาก 10% ก่อน)"
   ]
  },
  {
   "cell_type": "code",
   "execution_count": 1,
   "id": "dfb53284-92d2-4cdd-93d1-ff2c4781f4ee",
   "metadata": {},
   "outputs": [],
   "source": [
    "class create_new_room:\n",
    "    def __init__(self,room_type,per_night):\n",
    "        self.room_type = room_type\n",
    "        if self.room_type == 'sp':\n",
    "            self.price = 2000 * per_night\n",
    "        elif self.room_type == 'nm':\n",
    "            self.price = 1200 * per_night\n",
    "    def get_price(self):\n",
    "        return self.price"
   ]
  },
  {
   "cell_type": "code",
   "execution_count": 2,
   "id": "85e9b4fe-555f-4a5a-8a27-c3098e20ac5b",
   "metadata": {},
   "outputs": [],
   "source": [
    "def add_member(name,user_id,password,star = 0):\n",
    "    file = open('member.txt','a')\n",
    "    file_w = file.write('%s %s %s %s\\n'%(name,user_id,password,star))\n",
    "    file.close()"
   ]
  },
  {
   "cell_type": "code",
   "execution_count": 3,
   "id": "382bdf94-5fb7-483d-9765-4c22bff6a1ea",
   "metadata": {},
   "outputs": [],
   "source": [
    "def read_file():\n",
    "    file_r = open('member.txt','r')\n",
    "    str_file = file_r.read().split('\\n')\n",
    "    file_r.close()\n",
    "    listx = []\n",
    "    for member in str_file:\n",
    "        listx.append(member)\n",
    "#     new_listx = []\n",
    "#     for v in listx:\n",
    "#         if v != '':\n",
    "#             new_listx.append(v)\n",
    "#     listx = new_listx\n",
    "#เอาช้องว่างออก\n",
    "    listx = [i for i in listx if i]\n",
    "    new_list = list([x.split() for x in listx])\n",
    "    return new_list"
   ]
  },
  {
   "cell_type": "code",
   "execution_count": 4,
   "id": "cf18de4f-e7a1-47d2-aff4-266a1a9efbd0",
   "metadata": {},
   "outputs": [],
   "source": [
    "def ceate_account():\n",
    "    name = input('Name :')\n",
    "    user_id = input('user id :')\n",
    "    password = input('pass :')\n",
    "    add_member(name,user_id,password)\n",
    "    \n",
    "def login():\n",
    "    user_id = input('user id :')\n",
    "    password = input('password :')\n",
    "    check = read_file()\n",
    "    c_bool = False\n",
    "    for c in check:\n",
    "        if c[1] == user_id and c[2] == password:\n",
    "            c_bool = True\n",
    "            return True,c[3]\n",
    "            break\n",
    "    if c_bool == False:\n",
    "        return False\n",
    "def booking(star):\n",
    "    print('booking right')\n",
    "    room_type = input('Room Type \\nsp : spacial\\nnm : nolmal')\n",
    "    per_night = int(input('Per night :'))\n",
    "    new_create_new_room = create_new_room(room_type,per_night)\n",
    "    room_price = new_create_new_room.get_price()\n",
    "    price = 0\n",
    "    if int(star)>=10:\n",
    "        price = room_price-(room_price*(10/100))\n",
    "    else:\n",
    "        price = room_price\n",
    "    bill = price-price*(10/100)\n",
    "    print('จ่ายค่าจอง :',bill)\n",
    "    pay = int(input('money'))\n",
    "    bill = bill - pay\n",
    "    if bill <= 0:\n",
    "        print('ok')"
   ]
  },
  {
   "cell_type": "code",
   "execution_count": 5,
   "id": "fd870041-36dd-412f-88c5-c445a1c51ae8",
   "metadata": {},
   "outputs": [
    {
     "name": "stdout",
     "output_type": "stream",
     "text": [
      "[['dom', 'dom', '123', '0'], ['123', '123', '123', '0']]\n"
     ]
    }
   ],
   "source": [
    "list_member = read_file()\n",
    "print(list_member)"
   ]
  },
  {
   "cell_type": "code",
   "execution_count": 6,
   "id": "8065ccd1-c757-4c93-ad17-821df5b4bb3a",
   "metadata": {},
   "outputs": [],
   "source": [
    " account = []"
   ]
  },
  {
   "cell_type": "code",
   "execution_count": 7,
   "id": "ca2871a3-eeca-4ba7-9291-070463850e3d",
   "metadata": {},
   "outputs": [
    {
     "name": "stdout",
     "output_type": "stream",
     "text": [
      "please register befor login\n"
     ]
    },
    {
     "name": "stdin",
     "output_type": "stream",
     "text": [
      "Go to Login or Register login\n",
      "user id : 123\n",
      "password : 123\n"
     ]
    },
    {
     "name": "stdout",
     "output_type": "stream",
     "text": [
      "(True, '0')\n",
      "booking right\n"
     ]
    },
    {
     "name": "stdin",
     "output_type": "stream",
     "text": [
      "Room Type \n",
      "sp : spacial\n",
      "nm : nolmal sp\n",
      "Per night : 2\n"
     ]
    },
    {
     "name": "stdout",
     "output_type": "stream",
     "text": [
      "จ่ายค่าจอง : 3600.0\n"
     ]
    },
    {
     "name": "stdin",
     "output_type": "stream",
     "text": [
      "money 3200\n"
     ]
    },
    {
     "name": "stdout",
     "output_type": "stream",
     "text": [
      "please register befor login\n"
     ]
    },
    {
     "name": "stdin",
     "output_type": "stream",
     "text": [
      "Go to Login or Register register\n",
      "Name : 321\n",
      "user id : 321\n",
      "pass : 321\n"
     ]
    },
    {
     "name": "stdout",
     "output_type": "stream",
     "text": [
      "please register befor login\n"
     ]
    },
    {
     "name": "stdin",
     "output_type": "stream",
     "text": [
      "Go to Login or Register login\n",
      "user id : 321\n",
      "password : 321\n"
     ]
    },
    {
     "name": "stdout",
     "output_type": "stream",
     "text": [
      "(True, '0')\n",
      "booking right\n"
     ]
    },
    {
     "name": "stdin",
     "output_type": "stream",
     "text": [
      "Room Type \n",
      "sp : spacial\n",
      "nm : nolmal sp\n",
      "Per night : 1\n"
     ]
    },
    {
     "name": "stdout",
     "output_type": "stream",
     "text": [
      "จ่ายค่าจอง : 1800.0\n"
     ]
    },
    {
     "name": "stdin",
     "output_type": "stream",
     "text": [
      "money 1800\n"
     ]
    },
    {
     "name": "stdout",
     "output_type": "stream",
     "text": [
      "ok\n",
      "please register befor login\n"
     ]
    },
    {
     "name": "stdin",
     "output_type": "stream",
     "text": [
      "Go to Login or Register break\n"
     ]
    }
   ],
   "source": [
    "while True:\n",
    "    print('please register befor login')\n",
    "    Hotel_login = input('Go to Login or Register').lower()\n",
    "    if Hotel_login == 'login':\n",
    "        check_login = login()\n",
    "        print(check_login)\n",
    "        if check_login[0]:       \n",
    "            booking(check_login[1])\n",
    "    elif Hotel_login =='register':\n",
    "        ceate_account()\n",
    "    if Hotel_login == 'break':\n",
    "        break\n",
    "    #     booking = input('Do you want to booking right ? y/n')\n",
    "#     if booking == 'y':\n",
    "#         ceate_account()\n",
    "#     elif booking == 'n':\n",
    "#         pass\n"
   ]
  },
  {
   "cell_type": "code",
   "execution_count": null,
   "id": "e9aae5de-4913-4175-873d-91099091d257",
   "metadata": {},
   "outputs": [],
   "source": []
  },
  {
   "cell_type": "code",
   "execution_count": null,
   "id": "904f5e58-fe7f-4a90-a185-49a33e70b8eb",
   "metadata": {},
   "outputs": [],
   "source": []
  }
 ],
 "metadata": {
  "kernelspec": {
   "display_name": "Python 3",
   "language": "python",
   "name": "python3"
  },
  "language_info": {
   "codemirror_mode": {
    "name": "ipython",
    "version": 3
   },
   "file_extension": ".py",
   "mimetype": "text/x-python",
   "name": "python",
   "nbconvert_exporter": "python",
   "pygments_lexer": "ipython3",
   "version": "3.8.8"
  }
 },
 "nbformat": 4,
 "nbformat_minor": 5
}
