{
 "cells": [
  {
   "cell_type": "markdown",
   "id": "37ec6028-2174-4c9b-8bc1-7303abed5fe8",
   "metadata": {},
   "source": [
    "ระบบจองห้องพักโรงแรม\n",
    "\n",
    "จงพัฒนาโปรแกรมจองห้องพักโรงแรมแห่งหนึ่ง โดยลูกค้าที่ต้องการจองห้องพักต้องมีการลงทะเบียนเป็นสมาชิกก่อนเสมอ แต่ละครั้งของการจองห้องพัก ลูกค้าจะได้ดาวสะสม 1 ดวงต่อ 1 ใบจอง และเมื่อสะสมได้ดาวครบ 10 ดวง ในครั้งต่อไปที่มีการจองห้องพักเข้ามา ลูกค้าจะได้สถานะเป็นลูกค้า VIP โดยอัตโนมัติ สำหรับลูกค้า VIP จะได้รับส่วนลดค่าเช่าห้อง 10% ต่อใบจอง\n",
    "\n",
    "ในการจองห้องพักของโรงแรม โรงแรมมีห้องพักให้บริการ 2 ประเภท คือ ห้องปกติ คิดค่าเช่า 1,200 บาทต่อคืนต่อห้อง ส่วนห้องพิเศษคิดค่าเช่า 2,000 บาทต่อคืนต่อห้อง โดยห้องปกติจะคิดค่าบริการเพิ่ม 100 บาทต่อคืนต่อห้อง ส่วนห้องพิเศษจะมีการกำหนดค่าบริการพิเศษฟรีไว้ในวงเงิน 400 บาทต่อคืนต่อห้อง (กรณีลูกค้าไม่ใช้บริการพิเศษนี้ จะไม่มีการคืนเงินบริการฟรีนี้ให้ )\n",
    "\n",
    "ในการเข้าพัก สมาชิกต้องมีการจองห้องพักล่วงหน้า 2 วัน และกำหนดวันเข้าพักและวันออกเสมอ สามารถจองห้องพักได้หลายห้อง และตองชำระคาจองหองพก 50% ของราคาเชาทงหมด ( กรณ VIP คดคาจอง\n",
    "จากราคาทงหมดทหกสวนลด 10% แลว ) ระบบสามารถพมพใบจองได"
   ]
  },
  {
   "cell_type": "markdown",
   "id": "920e1925-2720-4c4f-be3e-e01c69e6f740",
   "metadata": {},
   "source": [
    "-ทำการสมัคร และเก็บดาว มีระบบ vip ลด 10%\n",
    "-ห้องปกติ 1200 ห้องพิเศษ 2000\n",
    "-จองร่วงหน้า 2 วัน กำหนด เข้าและออกเสมอ\n",
    "-ชำระค่าห้อง 10% ก่อน(vipหักจาก 10% ก่อน)"
   ]
  },
  {
   "cell_type": "code",
   "execution_count": 1,
   "id": "2206d116-124e-4638-80a4-7bb663696a06",
   "metadata": {},
   "outputs": [],
   "source": [
    "class account_user:\n",
    "    def __init__(self,name,user,password,star = 0):\n",
    "        self.name = name\n",
    "        self.user = user\n",
    "        self.password = password\n",
    "        self.star = star\n",
    "account_test = account_user('dom','user','password')"
   ]
  },
  {
   "cell_type": "code",
   "execution_count": 2,
   "id": "85e9b4fe-555f-4a5a-8a27-c3098e20ac5b",
   "metadata": {},
   "outputs": [],
   "source": [
    "def add_member(name,user_id,password,star = 0):\n",
    "    file = open('member.txt','a')\n",
    "    file_w = file.write('%s %s %s %s\\n'%(name,user_id,password,star))\n",
    "    file.close()"
   ]
  },
  {
   "cell_type": "code",
   "execution_count": 3,
   "id": "382bdf94-5fb7-483d-9765-4c22bff6a1ea",
   "metadata": {},
   "outputs": [],
   "source": [
    "def read_file():\n",
    "    file_r = open('member.txt','r')\n",
    "    str_file = file_r.read().split('\\n')\n",
    "    file_r.close()\n",
    "    listx = []\n",
    "    for member in str_file:\n",
    "        listx.append(member)\n",
    "#     new_listx = []\n",
    "#     for v in listx:\n",
    "#         if v != '':\n",
    "#             new_listx.append(v)\n",
    "#     listx = new_listx\n",
    "    listx = [i for i in listx if i]\n",
    "    new_list =list(listx)\n",
    "    return new_list"
   ]
  },
  {
   "cell_type": "code",
   "execution_count": 16,
   "id": "84f279cb-ea89-4539-b4b9-bb9b146711c0",
   "metadata": {},
   "outputs": [],
   "source": [
    "def ceate_account():\n",
    "    name = input('Name :')\n",
    "    user_id = input('user id :')\n",
    "    password = input('pass :')\n",
    "    add_member('name','user_id','password')\n",
    "def login():\n",
    "    user_id = input('user id :')\n",
    "    password = input('password :')\n",
    "    check = read_file().split()\n",
    "    print(check)"
   ]
  },
  {
   "cell_type": "code",
   "execution_count": 17,
   "id": "253f7b53-55f0-4dfd-a322-927cb0e3cd6d",
   "metadata": {},
   "outputs": [
    {
     "name": "stdin",
     "output_type": "stream",
     "text": [
      "user id : saknsaza123\n",
      "password : 123\n"
     ]
    },
    {
     "ename": "AttributeError",
     "evalue": "'list' object has no attribute 'split'",
     "output_type": "error",
     "traceback": [
      "\u001b[1;31m---------------------------------------------------------------------------\u001b[0m",
      "\u001b[1;31mAttributeError\u001b[0m                            Traceback (most recent call last)",
      "\u001b[1;32m<ipython-input-17-390877b5064f>\u001b[0m in \u001b[0;36m<module>\u001b[1;34m\u001b[0m\n\u001b[1;32m----> 1\u001b[1;33m \u001b[0mlogin\u001b[0m\u001b[1;33m(\u001b[0m\u001b[1;33m)\u001b[0m\u001b[1;33m\u001b[0m\u001b[1;33m\u001b[0m\u001b[0m\n\u001b[0m",
      "\u001b[1;32m<ipython-input-16-0897d7177de5>\u001b[0m in \u001b[0;36mlogin\u001b[1;34m()\u001b[0m\n\u001b[0;32m      7\u001b[0m     \u001b[0muser_id\u001b[0m \u001b[1;33m=\u001b[0m \u001b[0minput\u001b[0m\u001b[1;33m(\u001b[0m\u001b[1;34m'user id :'\u001b[0m\u001b[1;33m)\u001b[0m\u001b[1;33m\u001b[0m\u001b[1;33m\u001b[0m\u001b[0m\n\u001b[0;32m      8\u001b[0m     \u001b[0mpassword\u001b[0m \u001b[1;33m=\u001b[0m \u001b[0minput\u001b[0m\u001b[1;33m(\u001b[0m\u001b[1;34m'password :'\u001b[0m\u001b[1;33m)\u001b[0m\u001b[1;33m\u001b[0m\u001b[1;33m\u001b[0m\u001b[0m\n\u001b[1;32m----> 9\u001b[1;33m     \u001b[0mcheck\u001b[0m \u001b[1;33m=\u001b[0m \u001b[0mread_file\u001b[0m\u001b[1;33m(\u001b[0m\u001b[1;33m)\u001b[0m\u001b[1;33m.\u001b[0m\u001b[0msplit\u001b[0m\u001b[1;33m(\u001b[0m\u001b[1;33m)\u001b[0m\u001b[1;33m\u001b[0m\u001b[1;33m\u001b[0m\u001b[0m\n\u001b[0m\u001b[0;32m     10\u001b[0m     \u001b[0mprint\u001b[0m\u001b[1;33m(\u001b[0m\u001b[0mcheck\u001b[0m\u001b[1;33m)\u001b[0m\u001b[1;33m\u001b[0m\u001b[1;33m\u001b[0m\u001b[0m\n",
      "\u001b[1;31mAttributeError\u001b[0m: 'list' object has no attribute 'split'"
     ]
    }
   ],
   "source": [
    "login()"
   ]
  },
  {
   "cell_type": "code",
   "execution_count": 20,
   "id": "fd870041-36dd-412f-88c5-c445a1c51ae8",
   "metadata": {},
   "outputs": [
    {
     "name": "stdout",
     "output_type": "stream",
     "text": [
      "['dom dom 123 0', 'dom dom 123 0', 'dom dom 123 0', 'dom dom 123 0', 'dom dom 123 0']\n"
     ]
    }
   ],
   "source": [
    "list_member = read_file()\n",
    "print(list_member)"
   ]
  },
  {
   "cell_type": "code",
   "execution_count": 6,
   "id": "8065ccd1-c757-4c93-ad17-821df5b4bb3a",
   "metadata": {},
   "outputs": [],
   "source": [
    " account = []"
   ]
  },
  {
   "cell_type": "code",
   "execution_count": 11,
   "id": "8bb7a42a-3aa6-49b3-9067-766c5b0332d1",
   "metadata": {},
   "outputs": [
    {
     "ename": "KeyboardInterrupt",
     "evalue": "Interrupted by user",
     "output_type": "error",
     "traceback": [
      "\u001b[1;31m---------------------------------------------------------------------------\u001b[0m",
      "\u001b[1;31mKeyboardInterrupt\u001b[0m                         Traceback (most recent call last)",
      "\u001b[1;32m<ipython-input-11-4356228631b8>\u001b[0m in \u001b[0;36m<module>\u001b[1;34m\u001b[0m\n\u001b[1;32m----> 1\u001b[1;33m \u001b[0mHotel_login\u001b[0m \u001b[1;33m=\u001b[0m \u001b[0minput\u001b[0m\u001b[1;33m(\u001b[0m\u001b[1;34m'Login ? y/n'\u001b[0m\u001b[1;33m)\u001b[0m\u001b[1;33m\u001b[0m\u001b[1;33m\u001b[0m\u001b[0m\n\u001b[0m\u001b[0;32m      2\u001b[0m \u001b[1;32mif\u001b[0m \u001b[0mHotel_login\u001b[0m \u001b[1;33m==\u001b[0m \u001b[1;34m'y'\u001b[0m\u001b[1;33m:\u001b[0m\u001b[1;33m\u001b[0m\u001b[1;33m\u001b[0m\u001b[0m\n\u001b[0;32m      3\u001b[0m     \u001b[1;32mpass\u001b[0m\u001b[1;33m\u001b[0m\u001b[1;33m\u001b[0m\u001b[0m\n\u001b[0;32m      4\u001b[0m \u001b[1;32melif\u001b[0m \u001b[0mHotel_login\u001b[0m \u001b[1;33m==\u001b[0m\u001b[1;34m'n'\u001b[0m\u001b[1;33m:\u001b[0m\u001b[1;33m\u001b[0m\u001b[1;33m\u001b[0m\u001b[0m\n\u001b[0;32m      5\u001b[0m     \u001b[1;32mpass\u001b[0m\u001b[1;33m\u001b[0m\u001b[1;33m\u001b[0m\u001b[0m\n",
      "\u001b[1;32m~\\anaconda3\\lib\\site-packages\\ipykernel\\kernelbase.py\u001b[0m in \u001b[0;36mraw_input\u001b[1;34m(self, prompt)\u001b[0m\n\u001b[0;32m    858\u001b[0m                 \u001b[1;34m\"raw_input was called, but this frontend does not support input requests.\"\u001b[0m\u001b[1;33m\u001b[0m\u001b[1;33m\u001b[0m\u001b[0m\n\u001b[0;32m    859\u001b[0m             )\n\u001b[1;32m--> 860\u001b[1;33m         return self._input_request(str(prompt),\n\u001b[0m\u001b[0;32m    861\u001b[0m             \u001b[0mself\u001b[0m\u001b[1;33m.\u001b[0m\u001b[0m_parent_ident\u001b[0m\u001b[1;33m,\u001b[0m\u001b[1;33m\u001b[0m\u001b[1;33m\u001b[0m\u001b[0m\n\u001b[0;32m    862\u001b[0m             \u001b[0mself\u001b[0m\u001b[1;33m.\u001b[0m\u001b[0m_parent_header\u001b[0m\u001b[1;33m,\u001b[0m\u001b[1;33m\u001b[0m\u001b[1;33m\u001b[0m\u001b[0m\n",
      "\u001b[1;32m~\\anaconda3\\lib\\site-packages\\ipykernel\\kernelbase.py\u001b[0m in \u001b[0;36m_input_request\u001b[1;34m(self, prompt, ident, parent, password)\u001b[0m\n\u001b[0;32m    902\u001b[0m             \u001b[1;32mexcept\u001b[0m \u001b[0mKeyboardInterrupt\u001b[0m\u001b[1;33m:\u001b[0m\u001b[1;33m\u001b[0m\u001b[1;33m\u001b[0m\u001b[0m\n\u001b[0;32m    903\u001b[0m                 \u001b[1;31m# re-raise KeyboardInterrupt, to truncate traceback\u001b[0m\u001b[1;33m\u001b[0m\u001b[1;33m\u001b[0m\u001b[1;33m\u001b[0m\u001b[0m\n\u001b[1;32m--> 904\u001b[1;33m                 \u001b[1;32mraise\u001b[0m \u001b[0mKeyboardInterrupt\u001b[0m\u001b[1;33m(\u001b[0m\u001b[1;34m\"Interrupted by user\"\u001b[0m\u001b[1;33m)\u001b[0m \u001b[1;32mfrom\u001b[0m \u001b[1;32mNone\u001b[0m\u001b[1;33m\u001b[0m\u001b[1;33m\u001b[0m\u001b[0m\n\u001b[0m\u001b[0;32m    905\u001b[0m             \u001b[1;32mexcept\u001b[0m \u001b[0mException\u001b[0m \u001b[1;32mas\u001b[0m \u001b[0me\u001b[0m\u001b[1;33m:\u001b[0m\u001b[1;33m\u001b[0m\u001b[1;33m\u001b[0m\u001b[0m\n\u001b[0;32m    906\u001b[0m                 \u001b[0mself\u001b[0m\u001b[1;33m.\u001b[0m\u001b[0mlog\u001b[0m\u001b[1;33m.\u001b[0m\u001b[0mwarning\u001b[0m\u001b[1;33m(\u001b[0m\u001b[1;34m\"Invalid Message:\"\u001b[0m\u001b[1;33m,\u001b[0m \u001b[0mexc_info\u001b[0m\u001b[1;33m=\u001b[0m\u001b[1;32mTrue\u001b[0m\u001b[1;33m)\u001b[0m\u001b[1;33m\u001b[0m\u001b[1;33m\u001b[0m\u001b[0m\n",
      "\u001b[1;31mKeyboardInterrupt\u001b[0m: Interrupted by user"
     ]
    }
   ],
   "source": [
    "Hotel_login = input('Login ? y/n')\n",
    "if Hotel_login == 'y':\n",
    "    pass\n",
    "elif Hotel_login =='n':\n",
    "    pass\n",
    "else :\n",
    "    pass\n",
    "booking = input('Do you want to booking right ? y/n')\n",
    "if booking == 'y':\n",
    "    ceate_account()\n",
    "elif booking == 'n':\n",
    "    pass\n"
   ]
  },
  {
   "cell_type": "code",
   "execution_count": null,
   "id": "e9aae5de-4913-4175-873d-91099091d257",
   "metadata": {},
   "outputs": [],
   "source": []
  }
 ],
 "metadata": {
  "kernelspec": {
   "display_name": "Python 3",
   "language": "python",
   "name": "python3"
  },
  "language_info": {
   "codemirror_mode": {
    "name": "ipython",
    "version": 3
   },
   "file_extension": ".py",
   "mimetype": "text/x-python",
   "name": "python",
   "nbconvert_exporter": "python",
   "pygments_lexer": "ipython3",
   "version": "3.8.8"
  }
 },
 "nbformat": 4,
 "nbformat_minor": 5
}
